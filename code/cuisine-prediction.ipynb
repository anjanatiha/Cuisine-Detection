{
 "cells": [
  {
   "cell_type": "markdown",
   "metadata": {
    "_uuid": "7180c2d71c29da64336f28cbeabbf84e82718183"
   },
   "source": [
    "# Exploratry Data Analysis and Prediction Model for Cuisine Prediction"
   ]
  },
  {
   "cell_type": "markdown",
   "metadata": {
    "_uuid": "750029c5ba235659e42dc285699a2f7f99787b5c"
   },
   "source": [
    "![](https://timesofoman.com/uploads/images/2017/10/04/746773.jpg)"
   ]
  },
  {
   "cell_type": "markdown",
   "metadata": {
    "_uuid": "4504051c6e30c4f85432a1e0fb0eccbeac0f2598"
   },
   "source": [
    "## 1. Import "
   ]
  },
  {
   "cell_type": "markdown",
   "metadata": {
    "_uuid": "f45e5a2f071ff6b37c5f27f5ddf8427fad2bd5c6"
   },
   "source": [
    "### 1.1. Import Library"
   ]
  },
  {
   "cell_type": "code",
   "execution_count": 1,
   "metadata": {
    "_uuid": "fbc1a56e886e6a8174a035b32192ec00957f5e22"
   },
   "outputs": [
    {
     "name": "stdout",
     "output_type": "stream",
     "text": [
      "['sample_submission.csv', 'test.json', 'train.json']\n"
     ]
    }
   ],
   "source": [
    "# System\n",
    "import sys\n",
    "import os\n",
    "from os import path\n",
    "import argparse\n",
    "\n",
    "# Time\n",
    "import time\n",
    "import datetime\n",
    "\n",
    "# Numerical Data\n",
    "import random\n",
    "from random import shuffle\n",
    "import numpy as np \n",
    "import pandas as pd\n",
    "\n",
    "# Tools\n",
    "import itertools\n",
    "from glob import glob\n",
    "\n",
    "# NLP\n",
    "import re\n",
    "import nltk\n",
    "from nltk.corpus import stopwords \n",
    "from nltk.tokenize import word_tokenize\n",
    "from nltk.stem import SnowballStemmer, WordNetLemmatizer\n",
    "from bs4 import BeautifulSoup\n",
    "\n",
    "# Preprocessing\n",
    "from sklearn import preprocessing\n",
    "from sklearn.preprocessing import StandardScaler\n",
    "from sklearn.preprocessing import LabelEncoder\n",
    "from sklearn.feature_extraction.text import CountVectorizer\n",
    "from sklearn.feature_extraction.text import TfidfVectorizer\n",
    "from sklearn.utils import class_weight as cw\n",
    "\n",
    "# Model Selection\n",
    "from sklearn.model_selection import train_test_split\n",
    "from sklearn.model_selection import GridSearchCV\n",
    "from sklearn.model_selection import cross_val_score\n",
    "\n",
    "# Machine Learning Models\n",
    "from sklearn import svm\n",
    "from sklearn.svm import LinearSVC, SVC\n",
    "from sklearn.multiclass import OneVsRestClassifier\n",
    "\n",
    "# Evaluation Matrics\n",
    "from sklearn import metrics \n",
    "from sklearn.metrics import f1_score\n",
    "from sklearn.metrics import accuracy_score\n",
    "from sklearn.metrics import confusion_matrix\n",
    "from sklearn.metrics import classification_report\n",
    "\n",
    "# Graph/ Visualization\n",
    "import matplotlib.pyplot as plt\n",
    "import seaborn as sns\n",
    "\n",
    "# Image\n",
    "from PIL import Image\n",
    "from wordcloud import WordCloud, STOPWORDS\n",
    "\n",
    "import json\n",
    "\n",
    "np.random.seed(7)\n",
    "\n",
    "lemmatizer = WordNetLemmatizer()\n",
    "stemmer=SnowballStemmer('english')\n",
    "\n",
    "%matplotlib inline\n",
    "\n",
    "# Input data\n",
    "print(os.listdir(\"../input\"))"
   ]
  },
  {
   "cell_type": "markdown",
   "metadata": {
    "_uuid": "7b60d1b47a4dc4b19532599ae09ef084cb562ce9"
   },
   "source": [
    "## 2. Read Data"
   ]
  },
  {
   "cell_type": "code",
   "execution_count": 2,
   "metadata": {
    "_uuid": "f4a63bfa22e0b25dd8888b7fe08c3bc3da2b9534"
   },
   "outputs": [],
   "source": [
    "def read_data(path):\n",
    "    return json.load(open(path)) \n",
    "\n",
    "def generate_text(data):\n",
    "    text_data = [\" \".join(x['ingredients']).lower() for x in data]\n",
    "    return text_data \n",
    "\n",
    "def prep(t):\n",
    "    for i in range(len(t)):\n",
    "        text = t[i].lower().split(\" \")\n",
    "        text = [re.sub(\"[^a-zA-Z\\s+]\", \"\", t) for t in text]\n",
    "        text = [re.sub(\"\\s+\", \"-\", t) for t in text]\n",
    "        text = [t.strip() for t in text if t.strip()!=\"\"]\n",
    "        t[i] = \" \".join(text)\n",
    "    return t\n",
    "\n",
    "\n",
    "def get_tok(text):\n",
    "    t = []\n",
    "    for i in text:\n",
    "        t.extend(i.split(\" \"))\n",
    "    t = list(set(t))\n",
    "    return t"
   ]
  },
  {
   "cell_type": "code",
   "execution_count": 3,
   "metadata": {
    "_uuid": "cd871325f4c7f6bcd8276f016b699f3b7bcd05fb"
   },
   "outputs": [],
   "source": [
    "train = read_data('../input/train.json')\n",
    "test = read_data('../input/test.json')"
   ]
  },
  {
   "cell_type": "markdown",
   "metadata": {
    "_uuid": "7cc9872ad6262949db6d81b42e429d6ff09f2872"
   },
   "source": [
    "## 2. Preprocess Data"
   ]
  },
  {
   "cell_type": "code",
   "execution_count": 4,
   "metadata": {
    "_uuid": "814c72951111fa25a79db2131881940d430c52b3"
   },
   "outputs": [],
   "source": [
    "test_id = [doc['id'] for doc in test]\n",
    "train_text = generate_text(train)\n",
    "test_text = generate_text(test)\n",
    "target = [doc['cuisine'] for doc in train]"
   ]
  },
  {
   "cell_type": "code",
   "execution_count": 5,
   "metadata": {
    "_uuid": "5577c09fc602263913e0e764ceee9d0729758712"
   },
   "outputs": [],
   "source": [
    "train_text = prep(train_text)\n",
    "test_text = prep(test_text)"
   ]
  },
  {
   "cell_type": "markdown",
   "metadata": {
    "_uuid": "b32763d1f261dc23733ab1af79270de86270923c"
   },
   "source": [
    "## 3. Visualization"
   ]
  },
  {
   "cell_type": "code",
   "execution_count": 6,
   "metadata": {
    "_uuid": "5e76a04e967090726a56a0fdb6db1ff1f061add0"
   },
   "outputs": [],
   "source": [
    "def get_params():\n",
    "    params = {'legend.fontsize' : 'Large',\n",
    "              'figure.figsize'  : (16,8),\n",
    "              'axes.labelsize'  : 'x-large',\n",
    "              'axes.titlesize'  : 'xx-large',\n",
    "              'xtick.labelsize' : 'Large',\n",
    "              'ytick.labelsize' : 'Large'}\n",
    "    return params"
   ]
  },
  {
   "cell_type": "markdown",
   "metadata": {
    "_uuid": "a0b4662ba7c74d2083415bad63cba5bad3ff2c80"
   },
   "source": [
    "### 3.1. Showing Recipe Count per Cuisine"
   ]
  },
  {
   "cell_type": "code",
   "execution_count": 7,
   "metadata": {
    "_uuid": "5ee21cd0b039b4f5a7b98c3a7d4390e4fcb391ee"
   },
   "outputs": [
    {
     "data": {
      "image/png": "[encoded data removed]",
      "text/plain": [
       "<Figure size 1152x576 with 1 Axes>"
      ]
     },
     "metadata": {},
     "output_type": "display_data"
    }
   ],
   "source": [
    "# sns.set(style=\"ticks\")\n",
    "sns.set(style=\"whitegrid\")\n",
    "plt.figure(figsize=(16,8))\n",
    "params = get_params()\n",
    "plt.rcParams.update(params)\n",
    "plt.tick_params(labelsize=12)\n",
    "sns.countplot(y=target)\n",
    "plt.yticks(fontsize=18)\n",
    "plt.tight_layout()\n",
    "plt.show()"
   ]
  },
  {
   "cell_type": "markdown",
   "metadata": {
    "_uuid": "94e78ffe99c2d772a2b7cb9931e64133c279d7b1"
   },
   "source": [
    "## 4. Preprocessing "
   ]
  },
  {
   "cell_type": "code",
   "execution_count": 8,
   "metadata": {
    "_uuid": "6fc7c89654d9b6d112f73245f0dbebc95e5599af"
   },
   "outputs": [],
   "source": [
    "X_train, X_test, y_train, y_test = train_test_split(train_text, target, test_size=.2)"
   ]
  },
  {
   "cell_type": "code",
   "execution_count": 9,
   "metadata": {
    "_uuid": "a61d5a893033a3f3134a02a98e89bc9aaf83c7a1"
   },
   "outputs": [],
   "source": [
    "vect = TfidfVectorizer()\n",
    "\n",
    "vect.fit(X_train)\n",
    "\n",
    "X_train_df = vect.transform(X_train)\n",
    "X_test_df = vect.transform(X_test)\n",
    "\n",
    "test_text_df = vect.transform(test_text)"
   ]
  },
  {
   "cell_type": "code",
   "execution_count": 10,
   "metadata": {
    "_uuid": "cc530270bd836f9d55d315f0e0bdb4a11bba085b"
   },
   "outputs": [],
   "source": [
    "lbl_enc = LabelEncoder()\n",
    "y_train_label = lbl_enc.fit_transform(y_train)\n",
    "\n",
    "lbl_enc_test = LabelEncoder()\n",
    "y_test_label = lbl_enc_test.fit_transform(y_test)"
   ]
  },
  {
   "cell_type": "markdown",
   "metadata": {
    "_uuid": "efc22fc7d190d8a468ec68ddad87bddc30a3bbad"
   },
   "source": [
    "## 5. Training "
   ]
  },
  {
   "cell_type": "code",
   "execution_count": 11,
   "metadata": {
    "_uuid": "57e575ce065cdeb4e5f00cb6ca322f1d4135b668"
   },
   "outputs": [
    {
     "name": "stdout",
     "output_type": "stream",
     "text": [
      "[0.78413267 0.78380162 0.78      ]\n"
     ]
    },
    {
     "data": {
      "text/plain": [
       "0.7864236329352609"
      ]
     },
     "execution_count": 11,
     "metadata": {},
     "output_type": "execute_result"
    }
   ],
   "source": [
    "from sklearn.linear_model import LogisticRegression\n",
    "from sklearn.ensemble import RandomForestClassifier\n",
    "# parameters = {'C': np.arange(1, 100, 5)}\n",
    "model = LinearSVC()\n",
    "# model = LogisticRegression(multi_class='multinomial')\n",
    "# model = RandomForestClassifier(n_estimators=100, max_depth=2, random_state=0)\n",
    "# model = SVC()\n",
    "\n",
    "model = OneVsRestClassifier(model)\n",
    "# model = BaggingRegressor(model, n_estimators=100)\n",
    "# model = GridSearchCV(model, parameters, n_jobs=-1, verbose=2, cv=3)\n",
    "\n",
    "print(cross_val_score(model, X_train_df, y_train_label, scoring='accuracy', n_jobs=-1, cv=3)) \n",
    "\n",
    "model.fit(X_train_df, y_train_label)\n",
    "model.score(X_test_df, y_test_label)"
   ]
  },
  {
   "cell_type": "markdown",
   "metadata": {
    "_uuid": "1396a3e5ba03f7cff0b98a81488f26a259735010"
   },
   "source": [
    "## 6. Prediction "
   ]
  },
  {
   "cell_type": "code",
   "execution_count": 12,
   "metadata": {
    "_uuid": "f701c42b98715d3a72805e40b8f27cd88e2a4798"
   },
   "outputs": [],
   "source": [
    "y_pred = model.predict(test_text_df)\n",
    "y_pred = lbl_enc_test.inverse_transform(y_pred)"
   ]
  },
  {
   "cell_type": "code",
   "execution_count": 13,
   "metadata": {
    "_uuid": "0947457c257df9cffe6f682159148c6deeb7cf50"
   },
   "outputs": [
    {
     "data": {
      "text/html": [
       "<div>\n",
       "<style scoped>\n",
       "    .dataframe tbody tr th:only-of-type {\n",
       "        vertical-align: middle;\n",
       "    }\n",
       "\n",
       "    .dataframe tbody tr th {\n",
       "        vertical-align: top;\n",
       "    }\n",
       "\n",
       "    .dataframe thead th {\n",
       "        text-align: right;\n",
       "    }\n",
       "</style>\n",
       "<table border=\"1\" class=\"dataframe\">\n",
       "  <thead>\n",
       "    <tr style=\"text-align: right;\">\n",
       "      <th></th>\n",
       "      <th>id</th>\n",
       "      <th>cuisine</th>\n",
       "    </tr>\n",
       "  </thead>\n",
       "  <tbody>\n",
       "    <tr>\n",
       "      <th>0</th>\n",
       "      <td>18009</td>\n",
       "      <td>irish</td>\n",
       "    </tr>\n",
       "    <tr>\n",
       "      <th>1</th>\n",
       "      <td>28583</td>\n",
       "      <td>southern_us</td>\n",
       "    </tr>\n",
       "    <tr>\n",
       "      <th>2</th>\n",
       "      <td>41580</td>\n",
       "      <td>italian</td>\n",
       "    </tr>\n",
       "    <tr>\n",
       "      <th>3</th>\n",
       "      <td>29752</td>\n",
       "      <td>cajun_creole</td>\n",
       "    </tr>\n",
       "    <tr>\n",
       "      <th>4</th>\n",
       "      <td>35687</td>\n",
       "      <td>italian</td>\n",
       "    </tr>\n",
       "  </tbody>\n",
       "</table>\n",
       "</div>"
      ],
      "text/plain": [
       "      id       cuisine\n",
       "0  18009         irish\n",
       "1  28583   southern_us\n",
       "2  41580       italian\n",
       "3  29752  cajun_creole\n",
       "4  35687       italian"
      ]
     },
     "execution_count": 13,
     "metadata": {},
     "output_type": "execute_result"
    }
   ],
   "source": [
    "df = pd.DataFrame({'cuisine' : y_pred , 'id' : test_id }, columns=['id', 'cuisine'])\n",
    "df.to_csv('submission.csv', index = False)\n",
    "df.head()"
   ]
  },
  {
   "cell_type": "code",
   "execution_count": 14,
   "metadata": {
    "_kg_hide-input": true,
    "_uuid": "47d32609c5fe176f181c4c58d1c1e5da937dd322"
   },
   "outputs": [],
   "source": [
    "# from sklearn.linear_model import LogisticRegression\n",
    "# from sklearn.ensemble import VotingClassifier, RandomForestClassifier, AdaBoostClassifier\n",
    "\n",
    "# clf1 = LogisticRegression()\n",
    "# clf1 = OneVsRestClassifier(clf1, n_jobs=-1)\n",
    "\n",
    "# clf2 = model = LinearSVC()\n",
    "# clf2 = OneVsRestClassifier(clf2, n_jobs=-1)\n",
    "\n",
    "\n",
    "# model = VotingClassifier(estimators=[('lr', clf1), ('rf', clf2)])\n",
    "\n",
    "\n",
    "# # model = AdaBoostClassifier(n_estimators=100)\n",
    "# r = np.arange(0.1, 1, 0.1)\n",
    "\n",
    "# parameters = {'C': r}\n",
    "\n",
    "# # model = GridSearchCV(model, parameters, n_jobs=-1, verbose=2, cv=3)\n",
    "\n",
    "# model.fit(X_train_df, y_train_label)\n",
    "# # print(cross_val_score(model, X_train_df, y_train_label, scoring='accuracy', n_jobs=-1, cv=3)) "
   ]
  },
  {
   "cell_type": "markdown",
   "metadata": {
    "_uuid": "d545e7410b8f905df0c164c353560cff3c03e2a1"
   },
   "source": [
    "# Reference\n",
    "1. [Shivam Bansal's TF-IDF with OvR SVM : What's Cooking](https://www.kaggle.com/shivamb/tf-idf-with-ovr-svm-what-s-cooking)"
   ]
  },
  {
   "cell_type": "markdown",
   "metadata": {
    "_uuid": "3b9dbf60b994cc32466ec21326a1335fa76c3cf9"
   },
   "source": [
    "# Image Credit\n",
    "1. https://timesofoman.com/uploads/images/2017/10/04/746773.jpg"
   ]
  },
  {
   "cell_type": "code",
   "execution_count": 15,
   "metadata": {
    "_uuid": "ad5874ef6a06c855a8e3b8f9d8cf05cb8b01c6e1"
   },
   "outputs": [],
   "source": []
  }
 ],
 "metadata": {
  "kernelspec": {
   "display_name": "Python 3",
   "language": "python",
   "name": "python3"
  },
  "language_info": {
   "codemirror_mode": {
    "name": "ipython",
    "version": 3
   },
   "file_extension": ".py",
   "mimetype": "text/x-python",
   "name": "python",
   "nbconvert_exporter": "python",
   "pygments_lexer": "ipython3",
   "version": "3.6.6"
  }
 },
 "nbformat": 4,
 "nbformat_minor": 1
}
